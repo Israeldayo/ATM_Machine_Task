{
 "cells": [
  {
   "cell_type": "markdown",
   "metadata": {},
   "source": [
    "## 1.\tSTUDENT GRADE EVALUATOR"
   ]
  },
  {
   "cell_type": "code",
   "execution_count": 2,
   "metadata": {},
   "outputs": [],
   "source": [
    "student_scores = [85, 72, 90, 55, 40]"
   ]
  },
  {
   "cell_type": "code",
   "execution_count": 3,
   "metadata": {},
   "outputs": [],
   "source": [
    "#Write a function grade_student(score) that:\n",
    "\n",
    "def grade_student(score):\n",
    "    if score >= 80:\n",
    "        return \"A\"\n",
    "    elif score >= 70:\n",
    "        return \"B\"\n",
    "    elif score >= 60:\n",
    "        return \"C\"\n",
    "    elif score >= 50:\n",
    "        return \"D\"\n",
    "    else:\n",
    "        return \"F\""
   ]
  },
  {
   "cell_type": "code",
   "execution_count": 4,
   "metadata": {},
   "outputs": [
    {
     "name": "stdout",
     "output_type": "stream",
     "text": [
      "Student 1: Score = 85, Grade = A\n",
      "Student 2: Score = 72, Grade = B\n",
      "Student 3: Score = 90, Grade = A\n",
      "Student 4: Score = 55, Grade = D\n",
      "Student 5: Score = 40, Grade = F\n"
     ]
    }
   ],
   "source": [
    "for i, score in enumerate(student_scores, start=1):\n",
    "    grade = grade_student(score)\n",
    "    print(f\"Student {i}: Score = {score}, Grade = {grade}\")"
   ]
  },
  {
   "cell_type": "markdown",
   "metadata": {},
   "source": [
    "## 2.\tATM SIMULATOR"
   ]
  },
  {
   "cell_type": "code",
   "execution_count": 5,
   "metadata": {},
   "outputs": [
    {
     "name": "stdout",
     "output_type": "stream",
     "text": [
      "\n",
      " ATM Menu\n",
      "1 Check Balance\n",
      "2 Deposit Money\n",
      "3 Withdraw Money\n",
      "4 Exit\n",
      "\n",
      "Enter your choice (1-4): 1\n",
      "Your current balance is: N1000\n",
      "\n",
      " ATM Menu\n",
      "1 Check Balance\n",
      "2 Deposit Money\n",
      "3 Withdraw Money\n",
      "4 Exit\n",
      "\n",
      "Enter your choice (1-4): 2\n",
      "Enter amount to deposit: N200\n",
      "Successfully deposited N200.0\n",
      "New balance: N1200.0\n",
      "\n",
      " ATM Menu\n",
      "1 Check Balance\n",
      "2 Deposit Money\n",
      "3 Withdraw Money\n",
      "4 Exit\n",
      "\n",
      "Enter your choice (1-4): 3\n",
      "Enter amount to withdraw: N700\n",
      "Successfully withdrawn N700.0\n",
      "Remaining balance: N500.0\n",
      "\n",
      " ATM Menu\n",
      "1 Check Balance\n",
      "2 Deposit Money\n",
      "3 Withdraw Money\n",
      "4 Exit\n",
      "\n",
      "Enter your choice (1-4): 4\n",
      "Thank you for using our ATM!\n",
      "Please take your card and have a great day!\n"
     ]
    }
   ],
   "source": [
    "# Starting balance\n",
    "\n",
    "def atm_machine():\n",
    "    balance = 1000\n",
    "    \n",
    "#b.Show the user these options:\n",
    "    while True:\n",
    "        print(\"\\n ATM Menu\")\n",
    "        print(\"1 Check Balance\")\n",
    "        print(\"2 Deposit Money\")\n",
    "        print(\"3 Withdraw Money\")\n",
    "        print(\"4 Exit\")\n",
    "\n",
    "        try:\n",
    "            choice = int(input(\"\\nEnter your choice (1-4): \"))\n",
    "        except ValueError:\n",
    "            print(\"Invalid input! Please enter a number between 1-4.\")\n",
    "            continue\n",
    "\n",
    "        if choice == 1:\n",
    "            print(f\"Your current balance is: N{balance}\")\n",
    "        elif choice == 2:\n",
    "            try:\n",
    "                deposit_amount = float(input(\"Enter amount to deposit: N\"))\n",
    "                if deposit_amount > 0:\n",
    "                    balance += deposit_amount\n",
    "                    print(f\"Successfully deposited N{deposit_amount}\")\n",
    "                    print(f\"New balance: N{balance}\")\n",
    "                else:\n",
    "                        print(\"Deposit amount must be positive!\")\n",
    "            except ValueError:\n",
    "                    print(\"Invalid amount! Please enter a valid number.\")\n",
    "        elif choice == 3:\n",
    "            try:\n",
    "                withdraw_amount = float(input(\"Enter amount to withdraw: N\"))\n",
    "                if withdraw_amount > 0:\n",
    "                    if withdraw_amount <= balance:\n",
    "                        balance -= withdraw_amount\n",
    "                        print(f\"Successfully withdrawn N{withdraw_amount}\")\n",
    "                        print(f\"Remaining balance: N{balance}\")\n",
    "                    else:\n",
    "                        print(f\"Insufficient funds! Your balance is ${balance}\")\n",
    "                else:\n",
    "                    print(\"Withdrawal amount must be positive!\")\n",
    "            except ValueError:\n",
    "                    print(\"Invalid amount! Please enter a valid number.\")\n",
    "        elif choice == 4:\n",
    "            print(\"Thank you for using our ATM!\")\n",
    "            print(\"Please take your card and have a great day!\")\n",
    "            break\n",
    "            \n",
    "if __name__ == \"__main__\":\n",
    "    atm_machine()"
   ]
  },
  {
   "cell_type": "code",
   "execution_count": null,
   "metadata": {},
   "outputs": [],
   "source": []
  }
 ],
 "metadata": {
  "kernelspec": {
   "display_name": "Python 3",
   "language": "python",
   "name": "python3"
  },
  "language_info": {
   "codemirror_mode": {
    "name": "ipython",
    "version": 3
   },
   "file_extension": ".py",
   "mimetype": "text/x-python",
   "name": "python",
   "nbconvert_exporter": "python",
   "pygments_lexer": "ipython3",
   "version": "3.8.5"
  }
 },
 "nbformat": 4,
 "nbformat_minor": 4
}
